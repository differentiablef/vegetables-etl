{
 "cells": [
  {
   "cell_type": "markdown",
   "metadata": {},
   "source": [
    "<h2>Looking for Recipes ...</h2>\n",
    "<p>www.simplyrecipes.com</p>\n",
    "<p>www.allrecipes.com</p>"
   ]
  },
  {
   "cell_type": "code",
   "execution_count": 1,
   "metadata": {},
   "outputs": [],
   "source": [
    "import requests\n",
    "from bs4 import BeautifulSoup as bs"
   ]
  },
  {
   "cell_type": "code",
   "execution_count": 2,
   "metadata": {},
   "outputs": [],
   "source": [
    "recipe_list = []"
   ]
  },
  {
   "cell_type": "code",
   "execution_count": 3,
   "metadata": {},
   "outputs": [],
   "source": [
    "def simplyrecipes_search(vegetable, recipe_list):\n",
    "    # Search for recipes that feature a user-specified vegetable on the\n",
    "    # simplyrecipes website. Append each recipe to recipe_list.\n",
    "    # Return a response status code [200 => all went well].\n",
    "    \n",
    "    url = \"https://www.simplyrecipes.com/?s=\" + vegetable\n",
    "    response = requests.get(url)\n",
    "    print(\"Scraping :\", url, \" - \", response.status_code)\n",
    "    \n",
    "    if response.status_code == 200:\n",
    "        \n",
    "        soup = bs(response.text, 'html.parser')\n",
    "        \n",
    "        for axx in soup.find_all('li'):\n",
    "    \n",
    "            if axx.has_attr('itemprop'):\n",
    "                if axx['itemprop'] == \"itemListElement\":\n",
    "            \n",
    "                    for axxp in axx.find_all('a'):\n",
    "                \n",
    "                        # Link to the recipe.\n",
    "                        link = axxp['href']\n",
    "                \n",
    "                        # Title.\n",
    "                        title = axxp['title']\n",
    "                \n",
    "                    # Summary description.   \n",
    "                    for axxp in axx.find_all('div', class_=\"summary\"):\n",
    "                        summary = axxp.text.lstrip()\n",
    "            \n",
    "                    # A picture of the dish.\n",
    "                    for axxp in axx.find_all('div', class_=\"featured-image\"):\n",
    "                        image = axxp.img['src']\n",
    "        \n",
    "                    recipe_list.append({\"link\":link, \"title\":title, \"image\":image, \"summary\":summary, \"featured vegetable\":vegetable})\n",
    "        \n",
    "    return response.status_code"
   ]
  },
  {
   "cell_type": "code",
   "execution_count": 4,
   "metadata": {},
   "outputs": [],
   "source": [
    "def allrecipes_search(vegetable, recipe_list):\n",
    "    # Search for recipes that feature a user-specified vegetable on the\n",
    "    # allrecipes website. Append each recipe to recipe_list.\n",
    "    # Return a response status code [200 => all went well]\n",
    "    \n",
    "    url = \"https://www.allrecipes.com/search/results/?wt=\" + vegetable + \"&sort=re\"\n",
    "    response = requests.get(url)\n",
    "    print(\"Scraping :\", url, \" - \", response.status_code)\n",
    "    \n",
    "    if response.status_code == 200:\n",
    "\n",
    "        soup = bs(response.text, 'html.parser')\n",
    "\n",
    "        for axx in soup.find_all('article', class_ = \"fixed-recipe-card\"):\n",
    "            # Link to the recipe.\n",
    "            axxp = axx.find('a')\n",
    "            link = axxp['href']\n",
    "\n",
    "            # Title.\n",
    "            axxp = axx.find('span', class_=\"fixed-recipe-card__title-link\")\n",
    "            title = axxp.text\n",
    "\n",
    "            # A picture of the dish.\n",
    "            axxp = axx.find('img', class_=\"fixed-recipe-card__img\")\n",
    "            image = axxp['data-original-src']\n",
    "\n",
    "            # Summary description.\n",
    "            axxp = axx.find('div', class_=\"fixed-recipe-card__description\")\n",
    "            summary = axxp.text\n",
    "\n",
    "            recipe_list.append({\"link\":link, \"title\":title, \"image\":image, \"summary\":summary, \"featured vegetable\":vegetable})\n",
    "        \n",
    "    return response.status_code"
   ]
  },
  {
   "cell_type": "code",
   "execution_count": 8,
   "metadata": {},
   "outputs": [
    {
     "name": "stdout",
     "output_type": "stream",
     "text": [
      "Scraping : https://www.allrecipes.com/search/results/?wt=spinach&sort=re  -  200\n",
      "Scraping : https://www.simplyrecipes.com/?s=spinach  -  403\n",
      "Scraping : https://www.allrecipes.com/search/results/?wt=broccoli&sort=re  -  200\n",
      "Scraping : https://www.simplyrecipes.com/?s=broccoli  -  403\n",
      "Scraping : https://www.allrecipes.com/search/results/?wt=squash&sort=re  -  200\n",
      "Scraping : https://www.simplyrecipes.com/?s=squash  -  403\n",
      "Scraping : https://www.allrecipes.com/search/results/?wt=asparagus&sort=re  -  200\n",
      "Scraping : https://www.simplyrecipes.com/?s=asparagus  -  403\n",
      "Scraping : https://www.simplyrecipes.com/?s=lentils  -  403\n",
      "Scraping : https://www.simplyrecipes.com/?s=pepper  -  200\n"
     ]
    },
    {
     "data": {
      "text/plain": [
       "200"
      ]
     },
     "execution_count": 8,
     "metadata": {},
     "output_type": "execute_result"
    }
   ],
   "source": [
    "# Search for recipes and add them to the recipe_list.\n",
    "recipe_list = []\n",
    "allrecipes_search(\"spinach\", recipe_list)\n",
    "simplyrecipes_search(\"spinach\", recipe_list)\n",
    "allrecipes_search(\"broccoli\", recipe_list)\n",
    "simplyrecipes_search(\"broccoli\", recipe_list)\n",
    "allrecipes_search(\"squash\", recipe_list)\n",
    "simplyrecipes_search(\"squash\", recipe_list)\n",
    "allrecipes_search(\"asparagus\", recipe_list)\n",
    "simplyrecipes_search(\"asparagus\", recipe_list)\n",
    "simplyrecipes_search(\"lentils\", recipe_list)\n",
    "simplyrecipes_search(\"pepper\", recipe_list)"
   ]
  },
  {
   "cell_type": "markdown",
   "metadata": {},
   "source": [
    "<h2>Mongo DB Creation for Recipes</h2>"
   ]
  },
  {
   "cell_type": "code",
   "execution_count": 31,
   "metadata": {},
   "outputs": [
    {
     "data": {
      "text/plain": [
       "<pymongo.results.InsertManyResult at 0x1d8eb2f1f48>"
      ]
     },
     "execution_count": 31,
     "metadata": {},
     "output_type": "execute_result"
    }
   ],
   "source": [
    "# Import the pymongo library which will allow us to create and maintain a Mongo DB.\n",
    "import pymongo\n",
    "\n",
    "# Create connection variable\n",
    "conn = 'mongodb://localhost:27017'\n",
    "\n",
    "# Pass connection to the pymongo instance.\n",
    "client = pymongo.MongoClient(conn)\n",
    "\n",
    "# Connect to a database. Create a database called mars.\n",
    "db = client.ETL\n",
    "\n",
    "# Drops collection 'recipes' if available to remove duplicates.\n",
    "db.recipes.drop()\n",
    "\n",
    "db.recipes.insert_many(recipe_list)"
   ]
  }
 ],
 "metadata": {
  "kernelspec": {
   "display_name": "Python 3",
   "language": "python",
   "name": "python3"
  },
  "language_info": {
   "codemirror_mode": {
    "name": "ipython",
    "version": 3
   },
   "file_extension": ".py",
   "mimetype": "text/x-python",
   "name": "python",
   "nbconvert_exporter": "python",
   "pygments_lexer": "ipython3",
   "version": "3.7.3"
  }
 },
 "nbformat": 4,
 "nbformat_minor": 2
}
