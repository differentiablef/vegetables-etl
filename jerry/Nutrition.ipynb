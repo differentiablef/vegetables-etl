{
 "cells": [
  {
   "cell_type": "markdown",
   "metadata": {},
   "source": [
    "<h2>Scrape for Nutritional Information</h2>"
   ]
  },
  {
   "cell_type": "code",
   "execution_count": 2,
   "metadata": {},
   "outputs": [],
   "source": [
    "import pandas as pd\n",
    "vgtable = []"
   ]
  },
  {
   "cell_type": "code",
   "execution_count": 3,
   "metadata": {},
   "outputs": [],
   "source": [
    "def create_vegetable_table(vgstr):\n",
    "    # Scrapes a wikipedia site for nutritional information for\n",
    "    # the vegetable given by 'vgstr'.\n",
    "    # Returns a clean(ish) dataframe.\n",
    "    \n",
    "    url = \"http://en.wikipedia.org/wiki/\" + vgstr\n",
    "    tables = pd.read_html(url)\n",
    "    \n",
    "    # The above panda scrape will return quite a few tables. We want\n",
    "    # the one that contains nutritional information. In general, this\n",
    "    # will be the table whose first column contains the word \"Nutritional.\"\n",
    "    \n",
    "    for tb in tables:\n",
    "        if str(tb.columns[0]).find(\"Nutritional\") >= 0:\n",
    "            dftmp = tb\n",
    "            break\n",
    "    \n",
    "    # Clean the table up by excluding rows containing certain strings.\n",
    "    \n",
    "    dftmp.columns = [\"Constituent\", vgstr]\n",
    "    dftmp = dftmp.dropna()\n",
    "    dftmp = dftmp[~dftmp[vgstr].str.contains(\"Quantity %DV\")]\n",
    "    dftmp = dftmp[~dftmp[\"Constituent\"].str.contains(\"units\")]\n",
    "    dftmp = dftmp[~dftmp[\"Constituent\"].str.contains(\"Percentages\")]     \n",
    "    dftmp = dftmp.reset_index(drop=True)\n",
    "    \n",
    "    return dftmp   "
   ]
  },
  {
   "cell_type": "code",
   "execution_count": 4,
   "metadata": {},
   "outputs": [],
   "source": [
    "# Nutritional value per 100 g (3.5 oz)\n",
    "\n",
    "# Gather the vegetative data from the relevant wikipedia site.\n",
    "# Each append call returns a clean dataframe, which is then added\n",
    "# to the vgtable list.\n",
    "\n",
    "vgtable.append(create_vegetable_table('spinach'))\n",
    "vgtable.append(create_vegetable_table('cucurbita'))  # This is really squash ...\n",
    "vgtable.append(create_vegetable_table('broccoli'))\n",
    "vgtable.append(create_vegetable_table('asparagus'))\n",
    "vgtable.append(create_vegetable_table('green_bean'))\n",
    "vgtable.append(create_vegetable_table('eggplant'))\n",
    "vgtable.append(create_vegetable_table('lentil'))"
   ]
  },
  {
   "cell_type": "code",
   "execution_count": 5,
   "metadata": {},
   "outputs": [],
   "source": [
    "# Merge dataframes using inner joins so that the master table (vgtable_master)\n",
    "# contains only attributes common to all tables.\n",
    "\n",
    "vgtable_master = vgtable[0]\n",
    "vgtable_master = vgtable_master.merge(vgtable[1], on = 'Constituent', how = 'inner')\n",
    "vgtable_master = vgtable_master.merge(vgtable[2], on = 'Constituent', how = 'inner')\n",
    "vgtable_master = vgtable_master.merge(vgtable[3], on = 'Constituent', how = 'inner')\n",
    "vgtable_master = vgtable_master.merge(vgtable[4], on = 'Constituent', how = 'inner')\n",
    "vgtable_master = vgtable_master.merge(vgtable[5], on = 'Constituent', how = 'inner')\n",
    "vgtable_master = vgtable_master.merge(vgtable[6], on = 'Constituent', how = 'inner')"
   ]
  },
  {
   "cell_type": "code",
   "execution_count": 6,
   "metadata": {},
   "outputs": [
    {
     "name": "stdout",
     "output_type": "stream",
     "text": [
      "        Constituent          spinach        cucurbita          broccoli  \\\n",
      "0            Energy  97 kJ (23 kcal)  69 kJ (16 kcal)  141 kJ (34 kcal)   \n",
      "1     Carbohydrates            3.6 g            3.4 g            6.64 g   \n",
      "2               Fat            0.4 g            0.2 g            0.37 g   \n",
      "3           Protein            2.9 g            1.2 g            2.82 g   \n",
      "4     Thiamine (B1)      7% 0.078 mg      4% 0.048 mg       6% 0.071 mg   \n",
      "5   Riboflavin (B2)     16% 0.189 mg     12% 0.142 mg      10% 0.117 mg   \n",
      "6       Niacin (B3)      5% 0.724 mg      3% 0.487 mg       4% 0.639 mg   \n",
      "7        Vitamin B6     15% 0.195 mg     17% 0.218 mg      13% 0.175 mg   \n",
      "8       Folate (B9)       49% 194 μg         7% 29 μg         16% 63 μg   \n",
      "9         Vitamin C        34% 28 mg        20% 17 mg      107% 89.2 mg   \n",
      "10             Iron      21% 2.71 mg       3% 0.35 mg        6% 0.73 mg   \n",
      "11        Magnesium        22% 79 mg         5% 17 mg          6% 21 mg   \n",
      "12       Phosphorus         7% 49 mg         5% 38 mg          9% 66 mg   \n",
      "13        Potassium       12% 558 mg        6% 262 mg         7% 316 mg   \n",
      "14             Zinc       6% 0.53 mg       3% 0.29 mg        4% 0.41 mg   \n",
      "\n",
      "          asparagus        green_bean          eggplant               lentil  \n",
      "0   85 kJ (20 kcal)  131 kJ (31 kcal)  104 kJ (25 kcal)  1,477 kJ (353 kcal)  \n",
      "1               4 g            6.97 g            5.88 g                 63 g  \n",
      "2            0.12 g            0.22 g            0.18 g                  1 g  \n",
      "3             2.2 g            1.83 g            0.98 g                 25 g  \n",
      "4      12% 0.143 mg       7% 0.082 mg       3% 0.039 mg          76% 0.87 mg  \n",
      "5      12% 0.141 mg       9% 0.104 mg       3% 0.037 mg         18% 0.211 mg  \n",
      "6       7% 0.978 mg       5% 0.734 mg       4% 0.649 mg         17% 2.605 mg  \n",
      "7       7% 0.091 mg      11% 0.141 mg       6% 0.084 mg          42% 0.54 mg  \n",
      "8         13% 52 μg          8% 33 μg          6% 22 μg          120% 479 μg  \n",
      "9         7% 5.6 mg       15% 12.2 mg         3% 2.2 mg            5% 4.5 mg  \n",
      "10      16% 2.14 mg        8% 1.03 mg        2% 0.23 mg           50% 6.5 mg  \n",
      "11         4% 14 mg          7% 25 mg          4% 14 mg            13% 47 mg  \n",
      "12         7% 52 mg          5% 38 mg          3% 24 mg           40% 281 mg  \n",
      "13        4% 202 mg         4% 211 mg         5% 229 mg           14% 677 mg  \n",
      "14       6% 0.54 mg        3% 0.24 mg        2% 0.16 mg           35% 3.3 mg  \n"
     ]
    }
   ],
   "source": [
    "print(vgtable_master)\n",
    "# Create a csv file for additional work in Pandas.\n",
    "vgtable_master.to_csv(\"./vgtable_master.csv\")"
   ]
  },
  {
   "cell_type": "code",
   "execution_count": 146,
   "metadata": {},
   "outputs": [],
   "source": [
    "# Create dictionaries for inserting into MongoDB.\n",
    "\n",
    "nutritional_data = []\n",
    "\n",
    "for xx in vgtable_master.columns[1:]:\n",
    "    vdict = pd.Series(vgtable_master[xx].values, index=vgtable_master.Constituent).to_dict()\n",
    "    # Add a field for the vegetable name.\n",
    "    vdict['Name'] = xx\n",
    "    nutritional_data.append(vdict)"
   ]
  },
  {
   "cell_type": "code",
   "execution_count": 147,
   "metadata": {},
   "outputs": [
    {
     "name": "stdout",
     "output_type": "stream",
     "text": [
      "{'Energy': '97\\xa0kJ (23\\xa0kcal)', 'Carbohydrates': '3.6 g', 'Fat': '0.4 g', 'Protein': '2.9 g', 'Thiamine (B1)': '7% 0.078 mg', 'Riboflavin (B2)': '16% 0.189 mg', 'Niacin (B3)': '5% 0.724 mg', 'Vitamin B6': '15% 0.195 mg', 'Folate (B9)': '49% 194 μg', 'Vitamin C': '34% 28 mg', 'Iron': '21% 2.71 mg', 'Magnesium': '22% 79 mg', 'Phosphorus': '7% 49 mg', 'Potassium': '12% 558 mg', 'Zinc': '6% 0.53 mg', 'Name': 'spinach'}\n",
      "{'Energy': '69\\xa0kJ (16\\xa0kcal)', 'Carbohydrates': '3.4 g', 'Fat': '0.2 g', 'Protein': '1.2 g', 'Thiamine (B1)': '4% 0.048 mg', 'Riboflavin (B2)': '12% 0.142 mg', 'Niacin (B3)': '3% 0.487 mg', 'Vitamin B6': '17% 0.218 mg', 'Folate (B9)': '7% 29 μg', 'Vitamin C': '20% 17 mg', 'Iron': '3% 0.35 mg', 'Magnesium': '5% 17 mg', 'Phosphorus': '5% 38 mg', 'Potassium': '6% 262 mg', 'Zinc': '3% 0.29 mg', 'Name': 'cucurbita'}\n",
      "{'Energy': '141\\xa0kJ (34\\xa0kcal)', 'Carbohydrates': '6.64 g', 'Fat': '0.37 g', 'Protein': '2.82 g', 'Thiamine (B1)': '6% 0.071 mg', 'Riboflavin (B2)': '10% 0.117 mg', 'Niacin (B3)': '4% 0.639 mg', 'Vitamin B6': '13% 0.175 mg', 'Folate (B9)': '16% 63 μg', 'Vitamin C': '107% 89.2 mg', 'Iron': '6% 0.73 mg', 'Magnesium': '6% 21 mg', 'Phosphorus': '9% 66 mg', 'Potassium': '7% 316 mg', 'Zinc': '4% 0.41 mg', 'Name': 'broccoli'}\n",
      "{'Energy': '85\\xa0kJ (20\\xa0kcal)', 'Carbohydrates': '4 g', 'Fat': '0.12 g', 'Protein': '2.2 g', 'Thiamine (B1)': '12% 0.143 mg', 'Riboflavin (B2)': '12% 0.141 mg', 'Niacin (B3)': '7% 0.978 mg', 'Vitamin B6': '7% 0.091 mg', 'Folate (B9)': '13% 52 μg', 'Vitamin C': '7% 5.6 mg', 'Iron': '16% 2.14 mg', 'Magnesium': '4% 14 mg', 'Phosphorus': '7% 52 mg', 'Potassium': '4% 202 mg', 'Zinc': '6% 0.54 mg', 'Name': 'asparagus'}\n",
      "{'Energy': '131\\xa0kJ (31\\xa0kcal)', 'Carbohydrates': '6.97 g', 'Fat': '0.22 g', 'Protein': '1.83 g', 'Thiamine (B1)': '7% 0.082 mg', 'Riboflavin (B2)': '9% 0.104 mg', 'Niacin (B3)': '5% 0.734 mg', 'Vitamin B6': '11% 0.141 mg', 'Folate (B9)': '8% 33 μg', 'Vitamin C': '15% 12.2 mg', 'Iron': '8% 1.03 mg', 'Magnesium': '7% 25 mg', 'Phosphorus': '5% 38 mg', 'Potassium': '4% 211 mg', 'Zinc': '3% 0.24 mg', 'Name': 'green_bean'}\n",
      "{'Energy': '104\\xa0kJ (25\\xa0kcal)', 'Carbohydrates': '5.88 g', 'Fat': '0.18 g', 'Protein': '0.98 g', 'Thiamine (B1)': '3% 0.039 mg', 'Riboflavin (B2)': '3% 0.037 mg', 'Niacin (B3)': '4% 0.649 mg', 'Vitamin B6': '6% 0.084 mg', 'Folate (B9)': '6% 22 μg', 'Vitamin C': '3% 2.2 mg', 'Iron': '2% 0.23 mg', 'Magnesium': '4% 14 mg', 'Phosphorus': '3% 24 mg', 'Potassium': '5% 229 mg', 'Zinc': '2% 0.16 mg', 'Name': 'eggplant'}\n",
      "{'Energy': '1,477\\xa0kJ (353\\xa0kcal)', 'Carbohydrates': '63 g', 'Fat': '1 g', 'Protein': '25 g', 'Thiamine (B1)': '76% 0.87 mg', 'Riboflavin (B2)': '18% 0.211 mg', 'Niacin (B3)': '17% 2.605 mg', 'Vitamin B6': '42% 0.54 mg', 'Folate (B9)': '120% 479 μg', 'Vitamin C': '5% 4.5 mg', 'Iron': '50% 6.5 mg', 'Magnesium': '13% 47 mg', 'Phosphorus': '40% 281 mg', 'Potassium': '14% 677 mg', 'Zinc': '35% 3.3 mg', 'Name': 'lentil'}\n"
     ]
    }
   ],
   "source": [
    "for _ in nutritional_data:\n",
    "    print(_)"
   ]
  },
  {
   "cell_type": "markdown",
   "metadata": {},
   "source": [
    "<h2>Mongo DB Creation for Nutrition</h2>"
   ]
  },
  {
   "cell_type": "code",
   "execution_count": null,
   "metadata": {},
   "outputs": [],
   "source": [
    "# Import the pymongo library which will allow us to create and maintain a Mongo DB.\n",
    "import pymongo\n",
    "\n",
    "# Create connection variable\n",
    "conn = 'mongodb://localhost:27017'\n",
    "\n",
    "# Pass connection to the pymongo instance.\n",
    "client = pymongo.MongoClient(conn)\n",
    "\n",
    "# Connect to a database. Create a database called mars.\n",
    "db = client.ETL\n",
    "\n",
    "# Drops collection 'nutrition' if available to remove duplicates.\n",
    "db.nutrition.drop()\n",
    "\n",
    "db.nutrition.insert_many(nutritional_data)"
   ]
  },
  {
   "cell_type": "markdown",
   "metadata": {},
   "source": [
    "<h2>Create Plot of Magnesium Content</h2>"
   ]
  },
  {
   "cell_type": "code",
   "execution_count": 44,
   "metadata": {},
   "outputs": [],
   "source": [
    "# Look at the magnesium content of the featured vegetables.\n",
    "\n",
    "vgtable2 = vgtable_master.set_index([\"Constituent\"])\n",
    "\n",
    "ll = vgtable2.loc[\"Magnesium\"].values\n",
    "llval = []\n",
    "\n",
    "# Extract the content value (in mg) from the content string\n",
    "# of each vegetable.\n",
    "\n",
    "for pl in ll:\n",
    "    llval.append(float(pl.split()[1]))"
   ]
  },
  {
   "cell_type": "code",
   "execution_count": 49,
   "metadata": {},
   "outputs": [
    {
     "data": {
      "image/png": "[encoded data removed]",
      "text/plain": [
       "<Figure size 432x288 with 1 Axes>"
      ]
     },
     "metadata": {
      "needs_background": "light"
     },
     "output_type": "display_data"
    }
   ],
   "source": [
    "import matplotlib.pyplot as plt\n",
    "%matplotlib inline\n",
    "\n",
    "xpos = range(len(llval))\n",
    "\n",
    "plt.bar(xpos, llval, align='center', alpha=0.5)\n",
    "plt.xticks(xpos, list(vgtable2.columns), rotation = 90)\n",
    "plt.ylabel('Magnesium Content (mg)')\n",
    "plt.title('Magnesium Content per 100 g (3.5 oz)')\n",
    "plt.savefig(\"Magenesium.jpg\")\n",
    "plt.show()"
   ]
  }
 ],
 "metadata": {
  "kernelspec": {
   "display_name": "Python 3",
   "language": "python",
   "name": "python3"
  },
  "language_info": {
   "codemirror_mode": {
    "name": "ipython",
    "version": 3
   },
   "file_extension": ".py",
   "mimetype": "text/x-python",
   "name": "python",
   "nbconvert_exporter": "python",
   "pygments_lexer": "ipython3",
   "version": "3.7.3"
  }
 },
 "nbformat": 4,
 "nbformat_minor": 2
}
