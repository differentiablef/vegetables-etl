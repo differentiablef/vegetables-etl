{
 "cells": [
  {
   "cell_type": "code",
   "execution_count": 1,
   "metadata": {},
   "outputs": [],
   "source": [
    "import pandas as pd"
   ]
  },
  {
   "cell_type": "code",
   "execution_count": 2,
   "metadata": {},
   "outputs": [],
   "source": [
    "data = pd.read_html(\"https://ndb.nal.usda.gov/ndb/foods/show/11011?fgcd=&manu=&format=&count=&max=25&offset=&sort=default&order=asc&qlookup=asparagus&ds=&qt=&qp=&qa=&qn=&q=&ing=\")"
   ]
  },
  {
   "cell_type": "code",
   "execution_count": 3,
   "metadata": {},
   "outputs": [
    {
     "data": {
      "text/plain": [
       "list"
      ]
     },
     "execution_count": 3,
     "metadata": {},
     "output_type": "execute_result"
    }
   ],
   "source": [
    "type(data)"
   ]
  },
  {
   "cell_type": "code",
   "execution_count": 4,
   "metadata": {},
   "outputs": [
    {
     "data": {
      "text/plain": [
       "1"
      ]
     },
     "execution_count": 4,
     "metadata": {},
     "output_type": "execute_result"
    }
   ],
   "source": [
    "len(data)"
   ]
  },
  {
   "cell_type": "code",
   "execution_count": 5,
   "metadata": {},
   "outputs": [
    {
     "data": {
      "text/html": [
       "<div>\n",
       "<style scoped>\n",
       "    .dataframe tbody tr th:only-of-type {\n",
       "        vertical-align: middle;\n",
       "    }\n",
       "\n",
       "    .dataframe tbody tr th {\n",
       "        vertical-align: top;\n",
       "    }\n",
       "\n",
       "    .dataframe thead th {\n",
       "        text-align: right;\n",
       "    }\n",
       "</style>\n",
       "<table border=\"1\" class=\"dataframe\">\n",
       "  <thead>\n",
       "    <tr style=\"text-align: right;\">\n",
       "      <th></th>\n",
       "      <th>heading</th>\n",
       "      <th>Nutrient</th>\n",
       "      <th>Unit</th>\n",
       "      <th>Value per 100 g</th>\n",
       "      <th>cup 134 g</th>\n",
       "      <th>spear, small (5\" long or less) 12 g</th>\n",
       "      <th>spear, medium (5-1/4\" to 7\" long) 16 g</th>\n",
       "      <th>spear, large (7-1/4\" to 8-1/2\") 20 g</th>\n",
       "      <th>spear, extra large (8-3/4\" to 10\" long) 24 g</th>\n",
       "      <th>spear tip (2\" long or less) 3.5 g</th>\n",
       "    </tr>\n",
       "  </thead>\n",
       "  <tbody>\n",
       "    <tr>\n",
       "      <th>0</th>\n",
       "      <td>Proximates</td>\n",
       "      <td>Water</td>\n",
       "      <td>g</td>\n",
       "      <td>93.22</td>\n",
       "      <td>124.910</td>\n",
       "      <td>11.190</td>\n",
       "      <td>14.920</td>\n",
       "      <td>18.640</td>\n",
       "      <td>22.37</td>\n",
       "      <td>3.260</td>\n",
       "    </tr>\n",
       "    <tr>\n",
       "      <th>1</th>\n",
       "      <td>Minerals</td>\n",
       "      <td>Calcium, Ca</td>\n",
       "      <td>mg</td>\n",
       "      <td>24.00</td>\n",
       "      <td>32.000</td>\n",
       "      <td>3.000</td>\n",
       "      <td>4.000</td>\n",
       "      <td>5.000</td>\n",
       "      <td>6.00</td>\n",
       "      <td>1.000</td>\n",
       "    </tr>\n",
       "    <tr>\n",
       "      <th>2</th>\n",
       "      <td>Vitamins</td>\n",
       "      <td>Vitamin C, total ascorbic acid</td>\n",
       "      <td>mg</td>\n",
       "      <td>5.60</td>\n",
       "      <td>7.500</td>\n",
       "      <td>0.700</td>\n",
       "      <td>0.900</td>\n",
       "      <td>1.100</td>\n",
       "      <td>1.30</td>\n",
       "      <td>0.200</td>\n",
       "    </tr>\n",
       "    <tr>\n",
       "      <th>3</th>\n",
       "      <td>Lipids</td>\n",
       "      <td>Fatty acids, total saturated</td>\n",
       "      <td>g</td>\n",
       "      <td>0.04</td>\n",
       "      <td>0.054</td>\n",
       "      <td>0.005</td>\n",
       "      <td>0.006</td>\n",
       "      <td>0.008</td>\n",
       "      <td>0.01</td>\n",
       "      <td>0.001</td>\n",
       "    </tr>\n",
       "    <tr>\n",
       "      <th>4</th>\n",
       "      <td>Other</td>\n",
       "      <td>Caffeine</td>\n",
       "      <td>mg</td>\n",
       "      <td>0.00</td>\n",
       "      <td>0.000</td>\n",
       "      <td>0.000</td>\n",
       "      <td>0.000</td>\n",
       "      <td>0.000</td>\n",
       "      <td>0.00</td>\n",
       "      <td>0.000</td>\n",
       "    </tr>\n",
       "  </tbody>\n",
       "</table>\n",
       "</div>"
      ],
      "text/plain": [
       "      heading                        Nutrient Unit  Value per 100 g  \\\n",
       "0  Proximates                           Water    g            93.22   \n",
       "1    Minerals                     Calcium, Ca   mg            24.00   \n",
       "2    Vitamins  Vitamin C, total ascorbic acid   mg             5.60   \n",
       "3      Lipids    Fatty acids, total saturated    g             0.04   \n",
       "4       Other                        Caffeine   mg             0.00   \n",
       "\n",
       "   cup 134 g  spear, small (5\" long or less) 12 g  \\\n",
       "0    124.910                               11.190   \n",
       "1     32.000                                3.000   \n",
       "2      7.500                                0.700   \n",
       "3      0.054                                0.005   \n",
       "4      0.000                                0.000   \n",
       "\n",
       "   spear, medium (5-1/4\" to 7\" long) 16 g  \\\n",
       "0                                  14.920   \n",
       "1                                   4.000   \n",
       "2                                   0.900   \n",
       "3                                   0.006   \n",
       "4                                   0.000   \n",
       "\n",
       "   spear, large (7-1/4\" to 8-1/2\") 20 g  \\\n",
       "0                                18.640   \n",
       "1                                 5.000   \n",
       "2                                 1.100   \n",
       "3                                 0.008   \n",
       "4                                 0.000   \n",
       "\n",
       "   spear, extra large (8-3/4\" to 10\" long) 24 g  \\\n",
       "0                                         22.37   \n",
       "1                                          6.00   \n",
       "2                                          1.30   \n",
       "3                                          0.01   \n",
       "4                                          0.00   \n",
       "\n",
       "   spear tip (2\" long or less) 3.5 g  \n",
       "0                              3.260  \n",
       "1                              1.000  \n",
       "2                              0.200  \n",
       "3                              0.001  \n",
       "4                              0.000  "
      ]
     },
     "execution_count": 5,
     "metadata": {},
     "output_type": "execute_result"
    }
   ],
   "source": [
    "asparagusdf = data[0]\n",
    "asparagusdf"
   ]
  }
 ],
 "metadata": {
  "kernelspec": {
   "display_name": "Python 3",
   "language": "python",
   "name": "python3"
  },
  "language_info": {
   "codemirror_mode": {
    "name": "ipython",
    "version": 3
   },
   "file_extension": ".py",
   "mimetype": "text/x-python",
   "name": "python",
   "nbconvert_exporter": "python",
   "pygments_lexer": "ipython3",
   "version": "3.7.3"
  }
 },
 "nbformat": 4,
 "nbformat_minor": 2
}
