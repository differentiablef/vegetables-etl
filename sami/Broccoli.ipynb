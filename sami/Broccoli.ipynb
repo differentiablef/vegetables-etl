{
 "cells": [
  {
   "cell_type": "code",
   "execution_count": 1,
   "metadata": {},
   "outputs": [],
   "source": [
    "#importing dependencies\n",
    "import pandas as pd"
   ]
  },
  {
   "cell_type": "code",
   "execution_count": 2,
   "metadata": {},
   "outputs": [],
   "source": [
    "#Reading HTML\n",
    "data = pd.read_html(\"https://ndb.nal.usda.gov/ndb/foods/show/11090?fgcd=&manu=&format=&count=&max=25&offset=&sort=default&order=asc&qlookup=Broccoli%2C+raw&ds=&qt=&qp=&qa=&qn=&q=&ing=\")"
   ]
  },
  {
   "cell_type": "code",
   "execution_count": 3,
   "metadata": {},
   "outputs": [
    {
     "data": {
      "text/plain": [
       "list"
      ]
     },
     "execution_count": 3,
     "metadata": {},
     "output_type": "execute_result"
    }
   ],
   "source": [
    "type(data)"
   ]
  },
  {
   "cell_type": "code",
   "execution_count": 4,
   "metadata": {},
   "outputs": [
    {
     "data": {
      "text/plain": [
       "1"
      ]
     },
     "execution_count": 4,
     "metadata": {},
     "output_type": "execute_result"
    }
   ],
   "source": [
    "len(data)"
   ]
  },
  {
   "cell_type": "code",
   "execution_count": 5,
   "metadata": {},
   "outputs": [
    {
     "data": {
      "text/html": [
       "<div>\n",
       "<style scoped>\n",
       "    .dataframe tbody tr th:only-of-type {\n",
       "        vertical-align: middle;\n",
       "    }\n",
       "\n",
       "    .dataframe tbody tr th {\n",
       "        vertical-align: top;\n",
       "    }\n",
       "\n",
       "    .dataframe thead th {\n",
       "        text-align: right;\n",
       "    }\n",
       "</style>\n",
       "<table border=\"1\" class=\"dataframe\">\n",
       "  <thead>\n",
       "    <tr style=\"text-align: right;\">\n",
       "      <th></th>\n",
       "      <th>heading</th>\n",
       "      <th>Nutrient</th>\n",
       "      <th>Unit</th>\n",
       "      <th>Value per 100 g</th>\n",
       "      <th>cup chopped 91 g</th>\n",
       "      <th>bunch 608 g</th>\n",
       "      <th>spear (about 5\" long) 31 g</th>\n",
       "      <th>stalk 151 g</th>\n",
       "      <th>cup, chopped or diced 44 g</th>\n",
       "      <th>NLEA serving 148 g</th>\n",
       "    </tr>\n",
       "  </thead>\n",
       "  <tbody>\n",
       "    <tr>\n",
       "      <th>0</th>\n",
       "      <td>Proximates</td>\n",
       "      <td>Water</td>\n",
       "      <td>g</td>\n",
       "      <td>89.300</td>\n",
       "      <td>81.260</td>\n",
       "      <td>542.940</td>\n",
       "      <td>27.680</td>\n",
       "      <td>134.840</td>\n",
       "      <td>39.29</td>\n",
       "      <td>132.160</td>\n",
       "    </tr>\n",
       "    <tr>\n",
       "      <th>1</th>\n",
       "      <td>Minerals</td>\n",
       "      <td>Calcium, Ca</td>\n",
       "      <td>mg</td>\n",
       "      <td>47.000</td>\n",
       "      <td>43.000</td>\n",
       "      <td>286.000</td>\n",
       "      <td>15.000</td>\n",
       "      <td>71.000</td>\n",
       "      <td>21.00</td>\n",
       "      <td>70.000</td>\n",
       "    </tr>\n",
       "    <tr>\n",
       "      <th>2</th>\n",
       "      <td>Vitamins</td>\n",
       "      <td>Vitamin C, total ascorbic acid</td>\n",
       "      <td>mg</td>\n",
       "      <td>89.200</td>\n",
       "      <td>81.200</td>\n",
       "      <td>542.300</td>\n",
       "      <td>27.700</td>\n",
       "      <td>134.700</td>\n",
       "      <td>39.20</td>\n",
       "      <td>132.000</td>\n",
       "    </tr>\n",
       "    <tr>\n",
       "      <th>3</th>\n",
       "      <td>Lipids</td>\n",
       "      <td>Fatty acids, total saturated</td>\n",
       "      <td>g</td>\n",
       "      <td>0.114</td>\n",
       "      <td>0.104</td>\n",
       "      <td>0.693</td>\n",
       "      <td>0.035</td>\n",
       "      <td>0.172</td>\n",
       "      <td>0.05</td>\n",
       "      <td>0.169</td>\n",
       "    </tr>\n",
       "    <tr>\n",
       "      <th>4</th>\n",
       "      <td>Other</td>\n",
       "      <td>Caffeine</td>\n",
       "      <td>mg</td>\n",
       "      <td>0.000</td>\n",
       "      <td>0.000</td>\n",
       "      <td>0.000</td>\n",
       "      <td>0.000</td>\n",
       "      <td>0.000</td>\n",
       "      <td>0.00</td>\n",
       "      <td>0.000</td>\n",
       "    </tr>\n",
       "  </tbody>\n",
       "</table>\n",
       "</div>"
      ],
      "text/plain": [
       "      heading                        Nutrient Unit  Value per 100 g  \\\n",
       "0  Proximates                           Water    g           89.300   \n",
       "1    Minerals                     Calcium, Ca   mg           47.000   \n",
       "2    Vitamins  Vitamin C, total ascorbic acid   mg           89.200   \n",
       "3      Lipids    Fatty acids, total saturated    g            0.114   \n",
       "4       Other                        Caffeine   mg            0.000   \n",
       "\n",
       "   cup chopped 91 g  bunch 608 g  spear (about 5\" long) 31 g  stalk 151 g  \\\n",
       "0            81.260      542.940                      27.680      134.840   \n",
       "1            43.000      286.000                      15.000       71.000   \n",
       "2            81.200      542.300                      27.700      134.700   \n",
       "3             0.104        0.693                       0.035        0.172   \n",
       "4             0.000        0.000                       0.000        0.000   \n",
       "\n",
       "   cup, chopped or diced 44 g  NLEA serving 148 g  \n",
       "0                       39.29             132.160  \n",
       "1                       21.00              70.000  \n",
       "2                       39.20             132.000  \n",
       "3                        0.05               0.169  \n",
       "4                        0.00               0.000  "
      ]
     },
     "execution_count": 5,
     "metadata": {},
     "output_type": "execute_result"
    }
   ],
   "source": [
    "broccolidf = data[0]\n",
    "broccolidf"
   ]
  },
  {
   "cell_type": "code",
   "execution_count": null,
   "metadata": {},
   "outputs": [],
   "source": []
  }
 ],
 "metadata": {
  "kernelspec": {
   "display_name": "Python 3",
   "language": "python",
   "name": "python3"
  },
  "language_info": {
   "codemirror_mode": {
    "name": "ipython",
    "version": 3
   },
   "file_extension": ".py",
   "mimetype": "text/x-python",
   "name": "python",
   "nbconvert_exporter": "python",
   "pygments_lexer": "ipython3",
   "version": "3.7.3"
  }
 },
 "nbformat": 4,
 "nbformat_minor": 2
}
