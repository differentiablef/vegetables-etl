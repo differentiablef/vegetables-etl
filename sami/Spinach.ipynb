{
 "cells": [
  {
   "cell_type": "code",
   "execution_count": 1,
   "metadata": {},
   "outputs": [],
   "source": [
    "#importing dependencies\n",
    "import pandas as pd"
   ]
  },
  {
   "cell_type": "code",
   "execution_count": 2,
   "metadata": {},
   "outputs": [],
   "source": [
    "#Reading HTML\n",
    "data = pd.read_html(\"https://ndb.nal.usda.gov/ndb/foods/show/11457?fgcd=&manu=&format=&count=&max=25&offset=&sort=default&order=asc&qlookup=spinach&ds=&qt=&qp=&qa=&qn=&q=&ing=\")"
   ]
  },
  {
   "cell_type": "code",
   "execution_count": 3,
   "metadata": {},
   "outputs": [
    {
     "data": {
      "text/plain": [
       "list"
      ]
     },
     "execution_count": 3,
     "metadata": {},
     "output_type": "execute_result"
    }
   ],
   "source": [
    "type(data)"
   ]
  },
  {
   "cell_type": "code",
   "execution_count": 4,
   "metadata": {},
   "outputs": [
    {
     "data": {
      "text/plain": [
       "1"
      ]
     },
     "execution_count": 4,
     "metadata": {},
     "output_type": "execute_result"
    }
   ],
   "source": [
    "len(data)"
   ]
  },
  {
   "cell_type": "code",
   "execution_count": 5,
   "metadata": {},
   "outputs": [
    {
     "data": {
      "text/html": [
       "<div>\n",
       "<style scoped>\n",
       "    .dataframe tbody tr th:only-of-type {\n",
       "        vertical-align: middle;\n",
       "    }\n",
       "\n",
       "    .dataframe tbody tr th {\n",
       "        vertical-align: top;\n",
       "    }\n",
       "\n",
       "    .dataframe thead th {\n",
       "        text-align: right;\n",
       "    }\n",
       "</style>\n",
       "<table border=\"1\" class=\"dataframe\">\n",
       "  <thead>\n",
       "    <tr style=\"text-align: right;\">\n",
       "      <th></th>\n",
       "      <th>heading</th>\n",
       "      <th>Nutrient</th>\n",
       "      <th>Unit</th>\n",
       "      <th>Value per 100 g</th>\n",
       "      <th>cup 30 g</th>\n",
       "      <th>bunch 340 g</th>\n",
       "      <th>leaf 10 g</th>\n",
       "      <th>package (10 oz) 284 g</th>\n",
       "    </tr>\n",
       "  </thead>\n",
       "  <tbody>\n",
       "    <tr>\n",
       "      <th>0</th>\n",
       "      <td>Proximates</td>\n",
       "      <td>Water</td>\n",
       "      <td>g</td>\n",
       "      <td>91.400</td>\n",
       "      <td>27.420</td>\n",
       "      <td>310.760</td>\n",
       "      <td>9.140</td>\n",
       "      <td>259.580</td>\n",
       "    </tr>\n",
       "    <tr>\n",
       "      <th>1</th>\n",
       "      <td>Minerals</td>\n",
       "      <td>Calcium, Ca</td>\n",
       "      <td>mg</td>\n",
       "      <td>99.000</td>\n",
       "      <td>30.000</td>\n",
       "      <td>337.000</td>\n",
       "      <td>10.000</td>\n",
       "      <td>281.000</td>\n",
       "    </tr>\n",
       "    <tr>\n",
       "      <th>2</th>\n",
       "      <td>Vitamins</td>\n",
       "      <td>Vitamin C, total ascorbic acid</td>\n",
       "      <td>mg</td>\n",
       "      <td>28.100</td>\n",
       "      <td>8.400</td>\n",
       "      <td>95.500</td>\n",
       "      <td>2.800</td>\n",
       "      <td>79.800</td>\n",
       "    </tr>\n",
       "    <tr>\n",
       "      <th>3</th>\n",
       "      <td>Lipids</td>\n",
       "      <td>Fatty acids, total saturated</td>\n",
       "      <td>g</td>\n",
       "      <td>0.063</td>\n",
       "      <td>0.019</td>\n",
       "      <td>0.214</td>\n",
       "      <td>0.006</td>\n",
       "      <td>0.179</td>\n",
       "    </tr>\n",
       "    <tr>\n",
       "      <th>4</th>\n",
       "      <td>Other</td>\n",
       "      <td>Caffeine</td>\n",
       "      <td>mg</td>\n",
       "      <td>0.000</td>\n",
       "      <td>0.000</td>\n",
       "      <td>0.000</td>\n",
       "      <td>0.000</td>\n",
       "      <td>0.000</td>\n",
       "    </tr>\n",
       "  </tbody>\n",
       "</table>\n",
       "</div>"
      ],
      "text/plain": [
       "      heading                        Nutrient Unit  Value per 100 g  cup 30 g  \\\n",
       "0  Proximates                           Water    g           91.400    27.420   \n",
       "1    Minerals                     Calcium, Ca   mg           99.000    30.000   \n",
       "2    Vitamins  Vitamin C, total ascorbic acid   mg           28.100     8.400   \n",
       "3      Lipids    Fatty acids, total saturated    g            0.063     0.019   \n",
       "4       Other                        Caffeine   mg            0.000     0.000   \n",
       "\n",
       "   bunch 340 g  leaf 10 g  package (10 oz) 284 g  \n",
       "0      310.760      9.140                259.580  \n",
       "1      337.000     10.000                281.000  \n",
       "2       95.500      2.800                 79.800  \n",
       "3        0.214      0.006                  0.179  \n",
       "4        0.000      0.000                  0.000  "
      ]
     },
     "execution_count": 5,
     "metadata": {},
     "output_type": "execute_result"
    }
   ],
   "source": [
    "Spinachdf = data[0]\n",
    "Spinachdf"
   ]
  },
  {
   "cell_type": "code",
   "execution_count": null,
   "metadata": {},
   "outputs": [],
   "source": []
  }
 ],
 "metadata": {
  "kernelspec": {
   "display_name": "Python 3",
   "language": "python",
   "name": "python3"
  },
  "language_info": {
   "codemirror_mode": {
    "name": "ipython",
    "version": 3
   },
   "file_extension": ".py",
   "mimetype": "text/x-python",
   "name": "python",
   "nbconvert_exporter": "python",
   "pygments_lexer": "ipython3",
   "version": "3.7.3"
  }
 },
 "nbformat": 4,
 "nbformat_minor": 2
}
