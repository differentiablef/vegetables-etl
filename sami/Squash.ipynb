{
 "cells": [
  {
   "cell_type": "code",
   "execution_count": 1,
   "metadata": {},
   "outputs": [],
   "source": [
    "#importing dependencies\n",
    "import pandas as pd"
   ]
  },
  {
   "cell_type": "code",
   "execution_count": 2,
   "metadata": {},
   "outputs": [],
   "source": [
    "#Reading HTML\n",
    "data = pd.read_html(\"https://ndb.nal.usda.gov/ndb/foods/show/11482?fgcd=&manu=&format=&count=&max=25&offset=&sort=default&order=asc&qlookup=squash+winter&ds=&qt=&qp=&qa=&qn=&q=&ing=\")"
   ]
  },
  {
   "cell_type": "code",
   "execution_count": 3,
   "metadata": {},
   "outputs": [
    {
     "data": {
      "text/plain": [
       "list"
      ]
     },
     "execution_count": 3,
     "metadata": {},
     "output_type": "execute_result"
    }
   ],
   "source": [
    "type(data)"
   ]
  },
  {
   "cell_type": "code",
   "execution_count": 4,
   "metadata": {},
   "outputs": [
    {
     "data": {
      "text/plain": [
       "1"
      ]
     },
     "execution_count": 4,
     "metadata": {},
     "output_type": "execute_result"
    }
   ],
   "source": [
    "len(data)"
   ]
  },
  {
   "cell_type": "code",
   "execution_count": 5,
   "metadata": {},
   "outputs": [
    {
     "data": {
      "text/html": [
       "<div>\n",
       "<style scoped>\n",
       "    .dataframe tbody tr th:only-of-type {\n",
       "        vertical-align: middle;\n",
       "    }\n",
       "\n",
       "    .dataframe tbody tr th {\n",
       "        vertical-align: top;\n",
       "    }\n",
       "\n",
       "    .dataframe thead th {\n",
       "        text-align: right;\n",
       "    }\n",
       "</style>\n",
       "<table border=\"1\" class=\"dataframe\">\n",
       "  <thead>\n",
       "    <tr style=\"text-align: right;\">\n",
       "      <th></th>\n",
       "      <th>heading</th>\n",
       "      <th>Nutrient</th>\n",
       "      <th>Unit</th>\n",
       "      <th>Value per 100 g</th>\n",
       "      <th>cup, cubes 140 g</th>\n",
       "      <th>squash (4 inch dia) 431 g</th>\n",
       "    </tr>\n",
       "  </thead>\n",
       "  <tbody>\n",
       "    <tr>\n",
       "      <th>0</th>\n",
       "      <td>Proximates</td>\n",
       "      <td>Water</td>\n",
       "      <td>g</td>\n",
       "      <td>87.780</td>\n",
       "      <td>122.890</td>\n",
       "      <td>378.330</td>\n",
       "    </tr>\n",
       "    <tr>\n",
       "      <th>1</th>\n",
       "      <td>Minerals</td>\n",
       "      <td>Calcium, Ca</td>\n",
       "      <td>mg</td>\n",
       "      <td>33.000</td>\n",
       "      <td>46.000</td>\n",
       "      <td>142.000</td>\n",
       "    </tr>\n",
       "    <tr>\n",
       "      <th>2</th>\n",
       "      <td>Vitamins</td>\n",
       "      <td>Vitamin C, total ascorbic acid</td>\n",
       "      <td>mg</td>\n",
       "      <td>11.000</td>\n",
       "      <td>15.400</td>\n",
       "      <td>47.400</td>\n",
       "    </tr>\n",
       "    <tr>\n",
       "      <th>3</th>\n",
       "      <td>Lipids</td>\n",
       "      <td>Fatty acids, total saturated</td>\n",
       "      <td>g</td>\n",
       "      <td>0.021</td>\n",
       "      <td>0.029</td>\n",
       "      <td>0.091</td>\n",
       "    </tr>\n",
       "  </tbody>\n",
       "</table>\n",
       "</div>"
      ],
      "text/plain": [
       "      heading                        Nutrient Unit  Value per 100 g  \\\n",
       "0  Proximates                           Water    g           87.780   \n",
       "1    Minerals                     Calcium, Ca   mg           33.000   \n",
       "2    Vitamins  Vitamin C, total ascorbic acid   mg           11.000   \n",
       "3      Lipids    Fatty acids, total saturated    g            0.021   \n",
       "\n",
       "   cup, cubes 140 g  squash (4 inch dia) 431 g  \n",
       "0           122.890                    378.330  \n",
       "1            46.000                    142.000  \n",
       "2            15.400                     47.400  \n",
       "3             0.029                      0.091  "
      ]
     },
     "execution_count": 5,
     "metadata": {},
     "output_type": "execute_result"
    }
   ],
   "source": [
    "squashdf = data[0]\n",
    "squashdf"
   ]
  }
 ],
 "metadata": {
  "kernelspec": {
   "display_name": "Python 3",
   "language": "python",
   "name": "python3"
  },
  "language_info": {
   "codemirror_mode": {
    "name": "ipython",
    "version": 3
   },
   "file_extension": ".py",
   "mimetype": "text/x-python",
   "name": "python",
   "nbconvert_exporter": "python",
   "pygments_lexer": "ipython3",
   "version": "3.7.3"
  }
 },
 "nbformat": 4,
 "nbformat_minor": 2
}
